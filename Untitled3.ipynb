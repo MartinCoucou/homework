{
 "cells": [
  {
   "cell_type": "code",
   "execution_count": 17,
   "id": "69295b87",
   "metadata": {},
   "outputs": [],
   "source": [
    "import numpy as np"
   ]
  },
  {
   "cell_type": "code",
   "execution_count": 18,
   "id": "ba71ce72",
   "metadata": {},
   "outputs": [],
   "source": [
    "def ex1():\n",
    "    x = np.arange(21)\n",
    "    x[9:16] *= -1\n",
    "    return x"
   ]
  },
  {
   "cell_type": "code",
   "execution_count": 19,
   "id": "bfe51316",
   "metadata": {},
   "outputs": [
    {
     "data": {
      "text/plain": [
       "array([  0,   1,   2,   3,   4,   5,   6,   7,   8,  -9, -10, -11, -12,\n",
       "       -13, -14, -15,  16,  17,  18,  19,  20])"
      ]
     },
     "execution_count": 19,
     "metadata": {},
     "output_type": "execute_result"
    }
   ],
   "source": [
    "ex1()"
   ]
  },
  {
   "cell_type": "code",
   "execution_count": 20,
   "id": "a92456e8",
   "metadata": {},
   "outputs": [],
   "source": [
    "def ex2():\n",
    "    x = np.random.randint(0,10,size=5)\n",
    "    return x"
   ]
  },
  {
   "cell_type": "code",
   "execution_count": 21,
   "id": "86fbdec8",
   "metadata": {},
   "outputs": [
    {
     "data": {
      "text/plain": [
       "array([7, 5, 3, 9, 0])"
      ]
     },
     "execution_count": 21,
     "metadata": {},
     "output_type": "execute_result"
    }
   ],
   "source": [
    "ex2()"
   ]
  },
  {
   "cell_type": "code",
   "execution_count": 22,
   "id": "f8f818f4",
   "metadata": {},
   "outputs": [],
   "source": [
    "def ex3(x,y):\n",
    "    z = x*y\n",
    "    return z"
   ]
  },
  {
   "cell_type": "code",
   "execution_count": 23,
   "id": "1b0f38fd",
   "metadata": {},
   "outputs": [
    {
     "data": {
      "text/plain": [
       "array([  0,   1,   4,   9,  16,  25,  36,  49,  64,  81, 100, 121, 144,\n",
       "       169, 196, 225, 256, 289, 324, 361, 400])"
      ]
     },
     "execution_count": 23,
     "metadata": {},
     "output_type": "execute_result"
    }
   ],
   "source": [
    "x = np.arange(21)\n",
    "y = np.arange(21)\n",
    "ex3(x,y)"
   ]
  },
  {
   "cell_type": "code",
   "execution_count": 24,
   "id": "e8eb68bd",
   "metadata": {},
   "outputs": [],
   "source": [
    "def ex4():\n",
    "    mat = np.arange(10, 22).reshape(3, 4)\n",
    "    return mat"
   ]
  },
  {
   "cell_type": "code",
   "execution_count": 25,
   "id": "0d464450",
   "metadata": {},
   "outputs": [],
   "source": [
    "def ex5(mat):\n",
    "    x,y =mat.shape\n",
    "    print('rows = ',x)\n",
    "    print('columns = ',y)"
   ]
  },
  {
   "cell_type": "code",
   "execution_count": 26,
   "id": "f039c427",
   "metadata": {},
   "outputs": [
    {
     "data": {
      "text/plain": [
       "array([[10, 11, 12, 13],\n",
       "       [14, 15, 16, 17],\n",
       "       [18, 19, 20, 21]])"
      ]
     },
     "execution_count": 26,
     "metadata": {},
     "output_type": "execute_result"
    }
   ],
   "source": [
    "ex4()"
   ]
  },
  {
   "cell_type": "code",
   "execution_count": 27,
   "id": "c8285917",
   "metadata": {},
   "outputs": [
    {
     "name": "stdout",
     "output_type": "stream",
     "text": [
      "rows =  3\n",
      "columns =  4\n"
     ]
    }
   ],
   "source": [
    "ex5(ex4())"
   ]
  },
  {
   "cell_type": "code",
   "execution_count": 28,
   "id": "0c73fcd7",
   "metadata": {},
   "outputs": [],
   "source": [
    "def ex6():\n",
    "    mat = np.x = np.random.randint(0,2,size=16).reshape(4,4)\n",
    "    for i in range (4) :\n",
    "        mat[i,i]=0\n",
    "    return mat"
   ]
  },
  {
   "cell_type": "code",
   "execution_count": 29,
   "id": "40718766",
   "metadata": {},
   "outputs": [
    {
     "data": {
      "text/plain": [
       "array([[0, 0, 0, 0],\n",
       "       [0, 0, 0, 0],\n",
       "       [0, 1, 0, 1],\n",
       "       [1, 1, 0, 0]])"
      ]
     },
     "execution_count": 29,
     "metadata": {},
     "output_type": "execute_result"
    }
   ],
   "source": [
    "ex6()"
   ]
  },
  {
   "cell_type": "code",
   "execution_count": 30,
   "id": "b1c97087",
   "metadata": {},
   "outputs": [],
   "source": [
    "def ex7(x,y):\n",
    "    z = np.intersect1d(x,y)\n",
    "    return z"
   ]
  },
  {
   "cell_type": "code",
   "execution_count": 31,
   "id": "ec8d7ba2",
   "metadata": {},
   "outputs": [
    {
     "data": {
      "text/plain": [
       "array([ 0, 10])"
      ]
     },
     "execution_count": 31,
     "metadata": {},
     "output_type": "execute_result"
    }
   ],
   "source": [
    "x = np.array([0,10,20])\n",
    "y = np.array([10,40,0])\n",
    "ex7(x,y)"
   ]
  },
  {
   "cell_type": "code",
   "execution_count": 32,
   "id": "abd9cc35",
   "metadata": {},
   "outputs": [],
   "source": [
    "def ex8(x):\n",
    "    x = np.unique(x)\n",
    "    return x"
   ]
  },
  {
   "cell_type": "code",
   "execution_count": 33,
   "id": "ae063720",
   "metadata": {},
   "outputs": [
    {
     "data": {
      "text/plain": [
       "array([ 0, 10, 40])"
      ]
     },
     "execution_count": 33,
     "metadata": {},
     "output_type": "execute_result"
    }
   ],
   "source": [
    "y = np.array([10,40,0,10,10,0])\n",
    "ex8(y)"
   ]
  },
  {
   "cell_type": "code",
   "execution_count": 34,
   "id": "21f6fca0",
   "metadata": {},
   "outputs": [],
   "source": [
    "def ex9(x,y):\n",
    "    z = np.cross(x,y)\n",
    "    return z"
   ]
  },
  {
   "cell_type": "code",
   "execution_count": 35,
   "id": "617ad944",
   "metadata": {},
   "outputs": [
    {
     "data": {
      "text/plain": [
       "array([-800,  200, -100])"
      ]
     },
     "execution_count": 35,
     "metadata": {},
     "output_type": "execute_result"
    }
   ],
   "source": [
    "x = np.array([0,10,20])\n",
    "y = np.array([10,40,0])\n",
    "ex9(x,y)"
   ]
  },
  {
   "cell_type": "code",
   "execution_count": 36,
   "id": "8a5bad1d",
   "metadata": {},
   "outputs": [],
   "source": [
    "def ex10():\n",
    "    car = np.random.rand(10,2)\n",
    "    x = car[:,0]\n",
    "    y = car[:,1]\n",
    "    \n",
    "    r = np.sqrt(x**2+y**2)\n",
    "    t = np.arctan(y,x)\n",
    "    pol = np.array([r,t])\n",
    "    return pol"
   ]
  },
  {
   "cell_type": "code",
   "execution_count": 37,
   "id": "ad290a61",
   "metadata": {},
   "outputs": [
    {
     "data": {
      "text/plain": [
       "array([[1.08733869, 0.50490014, 0.40453031, 1.08851923, 0.82197565,\n",
       "        0.52010773, 0.82173113, 0.78214774, 0.94777995, 0.36003724],\n",
       "       [0.47170715, 0.3302118 , 0.02137866, 0.53798812, 0.15712104,\n",
       "        0.42388212, 0.21327799, 0.48455605, 0.39981268, 0.26695796]])"
      ]
     },
     "execution_count": 37,
     "metadata": {},
     "output_type": "execute_result"
    }
   ],
   "source": [
    "ex10()"
   ]
  },
  {
   "cell_type": "code",
   "execution_count": 38,
   "id": "998956e6",
   "metadata": {},
   "outputs": [],
   "source": [
    "def ex11(k):\n",
    "    x = np.arange(101)\n",
    "    index=np.argmin(abs(x-k))\n",
    "    \n",
    "    return x[index]"
   ]
  },
  {
   "cell_type": "code",
   "execution_count": 39,
   "id": "e98ac335",
   "metadata": {},
   "outputs": [
    {
     "data": {
      "text/plain": [
       "35"
      ]
     },
     "execution_count": 39,
     "metadata": {},
     "output_type": "execute_result"
    }
   ],
   "source": [
    "ex11(34.51)"
   ]
  },
  {
   "cell_type": "code",
   "execution_count": 40,
   "id": "e778e45e",
   "metadata": {},
   "outputs": [],
   "source": [
    "def ex12():\n",
    "    x = np.arange(15,56)\n",
    "    print(x[1:55])"
   ]
  },
  {
   "cell_type": "code",
   "execution_count": 41,
   "id": "9d3de139",
   "metadata": {
    "scrolled": true
   },
   "outputs": [
    {
     "name": "stdout",
     "output_type": "stream",
     "text": [
      "[16 17 18 19 20 21 22 23 24 25 26 27 28 29 30 31 32 33 34 35 36 37 38 39\n",
      " 40 41 42 43 44 45 46 47 48 49 50 51 52 53 54 55]\n"
     ]
    }
   ],
   "source": [
    "ex12()"
   ]
  },
  {
   "cell_type": "code",
   "execution_count": 72,
   "id": "82dab312",
   "metadata": {},
   "outputs": [],
   "source": [
    "def ex13():\n",
    "    mat = np.random.randint(0,10,size=12).reshape(3,4)\n",
    "    for i in range(3):\n",
    "        for j in range(4):\n",
    "            print(mat[i,j])"
   ]
  },
  {
   "cell_type": "code",
   "execution_count": 73,
   "id": "ecd36d08",
   "metadata": {},
   "outputs": [
    {
     "name": "stdout",
     "output_type": "stream",
     "text": [
      "4\n",
      "2\n",
      "8\n",
      "3\n",
      "9\n",
      "1\n",
      "9\n",
      "1\n",
      "9\n",
      "8\n",
      "8\n",
      "2\n"
     ]
    }
   ],
   "source": [
    "ex13()"
   ]
  },
  {
   "cell_type": "markdown",
   "id": "72cdac18",
   "metadata": {},
   "source": [
    "###### def ex14():\n",
    "    x = np.linspace(5,50,10)\n",
    "    return x\n"
   ]
  }
 ],
 "metadata": {
  "kernelspec": {
   "display_name": "Python 3 (ipykernel)",
   "language": "python",
   "name": "python3"
  },
  "language_info": {
   "codemirror_mode": {
    "name": "ipython",
    "version": 3
   },
   "file_extension": ".py",
   "mimetype": "text/x-python",
   "name": "python",
   "nbconvert_exporter": "python",
   "pygments_lexer": "ipython3",
   "version": "3.9.13"
  }
 },
 "nbformat": 4,
 "nbformat_minor": 5
}
