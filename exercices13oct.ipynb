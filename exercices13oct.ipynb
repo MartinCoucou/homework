{
 "cells": [
  {
   "cell_type": "code",
   "execution_count": 1,
   "id": "0e8990b6",
   "metadata": {},
   "outputs": [],
   "source": [
    "import numpy as np"
   ]
  },
  {
   "cell_type": "code",
   "execution_count": 2,
   "id": "7b5eaa3a",
   "metadata": {},
   "outputs": [],
   "source": [
    "def convert():\n",
    "    array = np.linspace(1.0,5.0,21)\n",
    "    return array * 0.1"
   ]
  },
  {
   "cell_type": "code",
   "execution_count": 4,
   "id": "64e22772",
   "metadata": {},
   "outputs": [
    {
     "data": {
      "text/plain": [
       "array([0.1 , 0.12, 0.14, 0.16, 0.18, 0.2 , 0.22, 0.24, 0.26, 0.28, 0.3 ,\n",
       "       0.32, 0.34, 0.36, 0.38, 0.4 , 0.42, 0.44, 0.46, 0.48, 0.5 ])"
      ]
     },
     "execution_count": 4,
     "metadata": {},
     "output_type": "execute_result"
    }
   ],
   "source": []
  },
  {
   "cell_type": "code",
   "execution_count": 20,
   "id": "01a8351b",
   "metadata": {},
   "outputs": [],
   "source": [
    "def table():\n",
    "    def gaussian(x, x0, s):\n",
    "        return 1 / np.sqrt(2 * np.pi) * np.exp(-((x - x0)**2) / (2 * s**2))\n",
    "    x0 = float(input('x0 : '))\n",
    "    s = float(input('s : '))\n",
    "    ini = float(input('ini value interval : '))\n",
    "    fin = float(input('final value interval : '))\n",
    "    num_points = int(input(\"Enter the number of points in the table: \"))\n",
    "    x_vector = np.linspace(ini,fin,num_points)\n",
    "    y_vector = gaussian(x_vector,x0,s)\n",
    "    for x, y in zip(x_vector, y_vector):\n",
    "        print(f\"{x:.3f} | {y:.5f}\")"
   ]
  },
  {
   "cell_type": "code",
   "execution_count": 21,
   "id": "b1461e4a",
   "metadata": {},
   "outputs": [
    {
     "name": "stdout",
     "output_type": "stream",
     "text": [
      "x0 : 0\n",
      "s : 0.3\n",
      "ini value interval : -1\n",
      "final value interval : 1\n",
      "Enter the number of points in the table: 6\n",
      "-1.000 | 0.00154\n",
      "-0.600 | 0.05399\n",
      "-0.200 | 0.31945\n",
      "0.200 | 0.31945\n",
      "0.600 | 0.05399\n",
      "1.000 | 0.00154\n"
     ]
    }
   ],
   "source": [
    "table()"
   ]
  },
  {
   "cell_type": "code",
   "execution_count": 35,
   "id": "90ec0c3d",
   "metadata": {},
   "outputs": [],
   "source": [
    "def sea_temp() :\n",
    "    months = ['January', 'February', 'March', 'April', 'May', 'June', 'July', 'August', 'September', 'October','November', 'December']\n",
    "    temp_mar = [13.8, 13.3, 13.9, 15.0, 16.4, 20.0, 21.9, 22.3, 22.0, 21.2, 18.8, 16.0]\n",
    "    \n",
    "    temp_np = np.array(temp_mar)\n",
    "    moy = np.mean(temp_np)\n",
    "    print('average : '+str(moy))\n",
    "    \n",
    "    index_cold = np.argmin(temp_np)\n",
    "    month_cold = months[index_cold]\n",
    "    colder = temp_np[index_cold]\n",
    "    print('colder : '+str(colder)+' in '+month_cold)\n",
    "    \n",
    "    index_hot = np.argmax(temp_np)\n",
    "    month_hot = months[index_hot]\n",
    "    hoter = temp_np[index_hot]\n",
    "    print('hotter : '+str(hoter) +' in '+month_hot)\n"
   ]
  },
  {
   "cell_type": "code",
   "execution_count": 36,
   "id": "84751fe1",
   "metadata": {},
   "outputs": [
    {
     "name": "stdout",
     "output_type": "stream",
     "text": [
      "average : 17.883333333333333\n",
      "colder : 13.3 in February\n",
      "hotter : 22.3 in August\n"
     ]
    }
   ],
   "source": [
    "sea_temp() "
   ]
  },
  {
   "cell_type": "code",
   "execution_count": 47,
   "id": "9af6d79d",
   "metadata": {},
   "outputs": [],
   "source": [
    "def table():\n",
    "    student_table = []\n",
    "    num_students = int(input('nb of student : '))\n",
    "    for i in range(num_students):\n",
    "        theory = float(input(f\"Enter theory mark for student {i}: \"))\n",
    "        problem = float(input(f\"Enter problem mark for student {i}: \"))\n",
    "        \n",
    "       \n",
    "        total = 0.4 * theory + 0.6 * problem\n",
    "        \n",
    "       \n",
    "        student_info = {\n",
    "            'Index': i,\n",
    "            'Theory': theory,\n",
    "            'Problem': problem,\n",
    "            'Total': total\n",
    "            }\n",
    "        student_table.append(student_info)\n",
    "        total_grades = [student['Total'] for student in student_table]\n",
    "        max_grade = max(total_grades)\n",
    "        min_grade = min(total_grades)\n",
    "        average_grade = sum(total_grades) / num_students\n",
    "        print(f\"Maximum Total Grade: {max_grade}\")\n",
    "        print(f\"Minimum Total Grade: {min_grade}\")\n",
    "        print(f\"Average Total Grade: {average_grade}\")\n",
    "        \n",
    "        max_grade_index = total_grades.index(max_grade)\n",
    "        print(f\"Position of Maximum Total Grade: {max_grade_index}\")\n",
    "\n",
    "    \n"
   ]
  },
  {
   "cell_type": "code",
   "execution_count": 49,
   "id": "7c25012a",
   "metadata": {},
   "outputs": [
    {
     "name": "stdout",
     "output_type": "stream",
     "text": [
      "nb of student : 3\n",
      "Enter theory mark for student 0: 1\n",
      "Enter problem mark for student 0: 2\n",
      "Enter theory mark for student 1: 3\n",
      "Enter problem mark for student 1: 5\n",
      "Enter theory mark for student 2: 3\n",
      "Enter problem mark for student 2: 3\n"
     ]
    },
    {
     "data": {
      "text/plain": [
       "[{'Index': 0, 'Theory': 1.0, 'Problem': 2.0, 'Total': 1.6},\n",
       " {'Index': 1, 'Theory': 3.0, 'Problem': 5.0, 'Total': 4.2},\n",
       " {'Index': 2, 'Theory': 3.0, 'Problem': 3.0, 'Total': 3.0}]"
      ]
     },
     "execution_count": 49,
     "metadata": {},
     "output_type": "execute_result"
    }
   ],
   "source": [
    "table()\n"
   ]
  },
  {
   "cell_type": "code",
   "execution_count": 1,
   "id": "29c4921c",
   "metadata": {},
   "outputs": [
    {
     "data": {
      "text/plain": [
       "array([  0,   1,   2,   3,   4,   5,   6,   7,   8,  -9, -10, -11, -12,\n",
       "       -13, -14, -15,  16,  17,  18,  19,  20])"
      ]
     },
     "execution_count": 1,
     "metadata": {},
     "output_type": "execute_result"
    }
   ],
   "source": []
  },
  {
   "cell_type": "code",
   "execution_count": null,
   "id": "6f0949fc",
   "metadata": {},
   "outputs": [],
   "source": []
  }
 ],
 "metadata": {
  "kernelspec": {
   "display_name": "Python 3 (ipykernel)",
   "language": "python",
   "name": "python3"
  },
  "language_info": {
   "codemirror_mode": {
    "name": "ipython",
    "version": 3
   },
   "file_extension": ".py",
   "mimetype": "text/x-python",
   "name": "python",
   "nbconvert_exporter": "python",
   "pygments_lexer": "ipython3",
   "version": "3.9.13"
  }
 },
 "nbformat": 4,
 "nbformat_minor": 5
}
